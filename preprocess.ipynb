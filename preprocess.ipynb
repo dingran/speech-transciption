{
 "cells": [
  {
   "cell_type": "code",
   "execution_count": 1,
   "metadata": {
    "collapsed": true
   },
   "outputs": [],
   "source": [
    "import os\n",
    "import numpy as np\n",
    "import pydub\n",
    "import datetime\n",
    "import time\n",
    "import re\n",
    "\n",
    "workfolder = '/Users/dingran/projects/speech_transciption'"
   ]
  },
  {
   "cell_type": "code",
   "execution_count": 2,
   "metadata": {
    "collapsed": false
   },
   "outputs": [],
   "source": [
    "# audio_file = 'BKorP55Aqvg/BKorP55Aqvg.wav'\n",
    "# youtube_sub = 'BKorP55Aqvg/BKorP55Aqvg.en-GB.vtt'\n",
    "# lang = 'en_GB'\n",
    "# filename_template = os.path.join(workfolder, 'BKorP55Aqvg/segment_{}.{}')\n",
    "\n",
    "# audio_file = '7W_qrc-TkR8/7W_qrc-TkR8.wav'\n",
    "# youtube_sub = '7W_qrc-TkR8/7W_qrc-TkR8.en.vtt'\n",
    "# lang = 'en_US'\n",
    "# filename_template = os.path.join(workfolder, '7W_qrc-TkR8/segment_{}.{}')\n",
    "\n",
    "# audio_file = 'HTgYHHKs0Zw/HTgYHHKs0Zw.wav'\n",
    "# youtube_sub = 'HTgYHHKs0Zw/HTgYHHKs0Zw.en.vtt'\n",
    "# lang = 'en_US'\n",
    "# filename_template = os.path.join(workfolder, 'HTgYHHKs0Zw/segment_{}.{}')\n",
    "\n",
    "\n",
    "audio_file = 'PdUKP4fFiBY/PdUKP4fFiBY.wav'\n",
    "youtube_sub = 'PdUKP4fFiBY/PdUKP4fFiBY.en.vtt'\n",
    "lang = 'en_US'\n",
    "filename_template = os.path.join(workfolder, 'PdUKP4fFiBY/segment_{}.{}')\n",
    "\n",
    "with open(youtube_sub, 'r') as f:\n",
    "    s =f.readlines()\n",
    "    s=[x.strip() for x in s]\n",
    "    s = [x for x in s if x!='']"
   ]
  },
  {
   "cell_type": "code",
   "execution_count": 3,
   "metadata": {
    "collapsed": false
   },
   "outputs": [],
   "source": [
    "a = re.compile(r'(\\d+):(\\d+):(\\d+).(\\d+)')"
   ]
  },
  {
   "cell_type": "code",
   "execution_count": 4,
   "metadata": {
    "collapsed": false
   },
   "outputs": [],
   "source": [
    "transcript_list = []\n",
    "for l in s:\n",
    "    timestamp = a.findall(l)\n",
    "    if timestamp and '-->' in l:\n",
    "        start_time = int(timestamp[0][0])*3600+int(timestamp[0][1])*60+int(timestamp[0][2])+int(timestamp[0][3])*1e-3\n",
    "        stop_time = int(timestamp[1][0])*3600+int(timestamp[1][1])*60+int(timestamp[1][2])+int(timestamp[1][3])*1e-3\n",
    "        transcript_list.append([start_time, stop_time, []])\n",
    "    else:\n",
    "        if transcript_list:\n",
    "            transcript_list[-1][-1] = l"
   ]
  },
  {
   "cell_type": "code",
   "execution_count": 5,
   "metadata": {
    "collapsed": false
   },
   "outputs": [
    {
     "name": "stdout",
     "output_type": "stream",
     "text": [
      "[[0.0, 7.508, \" So, if you can just use one of these. Whoa, you've got a huge dongle. Thanks. It gets the job done, I guess.\"], [7.508, 14.148, \" I've seen bigger. I have a really small one. Well, mine's normal size, but it doesn't work like it used to.\"], [14.148, 20.979, ' Hey guys, what is going on in there? Presentation. Paul tried to get his up. Tripp, I think yours is too wide.'], [20.979, 26.06, \" I've got two. Can you use them at the same time? Hmm, never tried it. Has anyone seem mine?\"], [26.06, 32.259, \" It's resting on top of the sac. Tripp, is your more wider than it is long? I've never seen that before.\"], [32.259, 37.838, \" Wait, Tara, do you have one? Yeah, but it's at home in my drawer. You know, mine was like this once. Mine bends to the left.\"], [37.838, 43.934, \" Whoa, I think you're stepping on mine. Is your purple? Just the top part. Actually, Clint, let me hold yours for a second.\"], [43.934, 48.98, \" Sure. Why is this so hard? Did you try taking it out and putting it back in? Can you spin it? I think it's stuck.\"], [48.98, 55.102, \" Sometimes, if you jiggle it around a little bit, that helps. Push it harder. Oh, you've got it in the wrong slot.\"], [55.102, 60.477, ' Should I just ram it in there? Well, can we just use yours, or you going to sit there and play with it the whole time? Alright, fine, but I warned you.'], [60.477, 66.117, \" No, it's upside down. Alright. When was the last time you used that thing? What are you guys doing?\"], [66.117, 72.462, \" What? It just sounds like you're comparing dongles. That sounds dirty.\"], [72.462, 77.556, \" You know you don't need those, right? You can connect to the screen wirelessly. It's a zoom room.\"], [79.8, 92.467, ' Alright. Pull it out. Doug, you there? Doug man? I think he hung up.']]\n"
     ]
    }
   ],
   "source": [
    "transcript_list_merged = []\n",
    "acumu_time = 0\n",
    "text = ''\n",
    "for t in transcript_list:\n",
    "    if acumu_time ==0:\n",
    "        t_start = t[0]\n",
    "    acumu_time = t[1]-t[0] + acumu_time\n",
    "    text += ' '+t[2]\n",
    "    if acumu_time > 5:\n",
    "        transcript_list_merged.append([t_start, t[1], text])\n",
    "        acumu_time = 0\n",
    "        text = ''\n",
    "\n",
    "print transcript_list_merged\n",
    "        "
   ]
  },
  {
   "cell_type": "code",
   "execution_count": 6,
   "metadata": {
    "collapsed": false
   },
   "outputs": [],
   "source": [
    "from pydub import AudioSegment\n",
    "sound = AudioSegment.from_wav(audio_file)\n"
   ]
  },
  {
   "cell_type": "code",
   "execution_count": 7,
   "metadata": {
    "collapsed": false
   },
   "outputs": [],
   "source": [
    "\n",
    "i=0\n",
    "for t in transcript_list_merged:\n",
    "    segment = sound[t[0]*1000:t[1]*1000]\n",
    "    segment = segment.set_channels(1)\n",
    "    segment.export(filename_template.format(i, 'wav'), format='wav')\n",
    "    with open(filename_template.format(i, 'txt'), \"w\") as text_file:\n",
    "        text_file.write(t[2])\n",
    "    i+=1\n",
    "N= i-1"
   ]
  },
  {
   "cell_type": "code",
   "execution_count": 8,
   "metadata": {
    "collapsed": false
   },
   "outputs": [],
   "source": [
    "import io\n",
    "from pydub.utils import mediainfo\n",
    "def transcribe_file(speech_file):\n",
    "    \"\"\"Transcribe the given audio file.\"\"\"\n",
    "    from google.cloud import speech\n",
    "    speech_client = speech.Client()\n",
    "    \n",
    "    info = mediainfo(speech_file)\n",
    "    #print info\n",
    "\n",
    "    with io.open(speech_file, 'rb') as audio_file:\n",
    "        content = audio_file.read()\n",
    "        audio_sample = speech_client.sample(\n",
    "            content=content,\n",
    "            source_uri=None,\n",
    "            encoding='LINEAR16',\n",
    "            sample_rate_hertz=int(info['sample_rate']))\n",
    "\n",
    "    try:\n",
    "        alternatives = audio_sample.recognize(lang)\n",
    "#         for alternative in alternatives:\n",
    "#             print('Transcript: {}'.format(alternative.transcript))\n",
    "\n",
    "        return alternatives[0].transcript\n",
    "    except:\n",
    "        return ''"
   ]
  },
  {
   "cell_type": "code",
   "execution_count": 9,
   "metadata": {
    "collapsed": false
   },
   "outputs": [
    {
     "name": "stdout",
     "output_type": "stream",
     "text": [
      "Google:\n",
      "puppies\n",
      "Official:\n",
      " So, if you can just use one of these. Whoa, you've got a huge dongle. Thanks. It gets the job done, I guess.\n",
      "Google:\n",
      "I've seen bigger\n",
      "Official:\n",
      " I've seen bigger. I have a really small one. Well, mine's normal size, but it doesn't work like it used to.\n",
      "Google:\n",
      "what is going on in their presentation trip I think you're just too why\n",
      "Official:\n",
      " Hey guys, what is going on in there? Presentation. Paul tried to get his up. Tripp, I think yours is too wide.\n",
      "Google:\n",
      "I've got to commune with the same time never tried it\n",
      "Official:\n",
      " I've got two. Can you use them at the same time? Hmm, never tried it. Has anyone seem mine?\n",
      "Google:\n",
      "resting on top of the sack\n",
      "Official:\n",
      " It's resting on top of the sac. Tripp, is your more wider than it is long? I've never seen that before.\n",
      "Google:\n",
      "yeah but it's at home like this one to the left\n",
      "Official:\n",
      " Wait, Tara, do you have one? Yeah, but it's at home in my drawer. You know, mine was like this once. Mine bends to the left.\n",
      "Google:\n",
      "I think it's purple\n",
      "Official:\n",
      " Whoa, I think you're stepping on mine. Is your purple? Just the top part. Actually, Clint, let me hold yours for a second.\n",
      "Google:\n",
      "so hard did you try taking it out and put it back in can you spend it\n",
      "Official:\n",
      " Sure. Why is this so hard? Did you try taking it out and putting it back in? Can you spin it? I think it's stuck.\n",
      "Google:\n",
      "Kennedy jiggle it around a little bit that you got in the wrong slot\n",
      "Official:\n",
      " Sometimes, if you jiggle it around a little bit, that helps. Push it harder. Oh, you've got it in the wrong slot.\n",
      "Google:\n",
      "Ram it in there yours even sit there the whole time\n",
      "Official:\n",
      " Should I just ram it in there? Well, can we just use yours, or you going to sit there and play with it the whole time? Alright, fine, but I warned you.\n",
      "Google:\n",
      "are you doing\n",
      "Official:\n",
      " No, it's upside down. Alright. When was the last time you used that thing? What are you guys doing?\n",
      "Google:\n",
      "what is it sounds like you're comparing dongles\n",
      "Official:\n",
      " What? It just sounds like you're comparing dongles. That sounds dirty.\n",
      "Google:\n",
      "you know you don't need those right you can connect to the screen wirelessly it's a zoom room\n",
      "Official:\n",
      " You know you don't need those, right? You can connect to the screen wirelessly. It's a zoom room.\n"
     ]
    }
   ],
   "source": [
    "for i in range(N):\n",
    "    google_trans = transcribe_file(filename_template.format(i, 'wav'))\n",
    "    print 'Google:\\n', google_trans\n",
    "    with open(filename_template.format(i, 'ggl.txt'), \"w\") as text_file:\n",
    "        text_file.write(google_trans)\n",
    "    print 'Official:\\n', transcript_list_merged[i][2]"
   ]
  },
  {
   "cell_type": "code",
   "execution_count": null,
   "metadata": {
    "collapsed": true
   },
   "outputs": [],
   "source": []
  }
 ],
 "metadata": {
  "kernelspec": {
   "display_name": "Python [conda root]",
   "language": "python",
   "name": "conda-root-py"
  },
  "language_info": {
   "codemirror_mode": {
    "name": "ipython",
    "version": 2
   },
   "file_extension": ".py",
   "mimetype": "text/x-python",
   "name": "python",
   "nbconvert_exporter": "python",
   "pygments_lexer": "ipython2",
   "version": "2.7.13"
  }
 },
 "nbformat": 4,
 "nbformat_minor": 2
}
